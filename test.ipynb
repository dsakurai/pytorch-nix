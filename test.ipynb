{
 "cells": [
  {
   "cell_type": "code",
   "execution_count": null,
   "id": "cd39cf95",
   "metadata": {},
   "outputs": [
    {
     "ename": "SyntaxError",
     "evalue": "invalid syntax (160102429.py, line 3)",
     "output_type": "error",
     "traceback": [
      "  \u001b[36mCell\u001b[39m\u001b[36m \u001b[39m\u001b[32mIn[1]\u001b[39m\u001b[32m, line 3\u001b[39m\n\u001b[31m    \u001b[39m\u001b[31mImports and device setup\u001b[39m\n                       ^\n\u001b[31mSyntaxError\u001b[39m\u001b[31m:\u001b[39m invalid syntax\n"
     ]
    }
   ],
   "source": [
    "# minimal_cuda_plotly.ipynb\n",
    "\n",
    "# Imports and device setup\n",
    "import torch\n",
    "import torch.nn as nn\n",
    "\n",
    "device = torch.device(\"cuda\" if torch.cuda.is_available() else \"cpu\")\n",
    "print(f\"Using device: {device}\")\n",
    "\n",
    "# Synthesize data\n",
    "torch.manual_seed(0)\n",
    "x = torch.unsqueeze(torch.linspace(-1, 1, 100), dim=1)\n",
    "y = 2 * x + 0.2 * torch.rand(x.size())\n",
    "x, y = x.to(device), y.to(device)\n",
    "\n",
    "# Model\n",
    "model = nn.Sequential(\n",
    "    nn.Linear(1, 10),\n",
    "    nn.ReLU(),\n",
    "    nn.Linear(10, 1)\n",
    ").to(device)\n",
    "\n",
    "criterion = nn.MSELoss()\n",
    "optimizer = torch.optim.Adam(model.parameters(), lr=0.01)\n",
    "\n",
    "# Training loop\n",
    "losses = []\n",
    "for epoch in range(200):\n",
    "    pred = model(x)\n",
    "    loss = criterion(pred, y)\n",
    "    losses.append(loss.item())\n",
    "\n",
    "    optimizer.zero_grad()\n",
    "    loss.backward()\n",
    "    optimizer.step()\n",
    "\n",
    "print(f\"Final loss: {losses[-1]:.4f}\")\n"
   ]
  },
  {
   "cell_type": "code",
   "execution_count": null,
   "id": "4fce7bdd",
   "metadata": {},
   "outputs": [],
   "source": [
    "import plotly.graph_objects as go\n",
    "import plotly.express as px\n",
    "\n",
    "# Plotly: Loss curve\n",
    "fig1 = go.Figure()\n",
    "fig1.add_trace(go.Scatter(y=losses, mode='lines', name='Loss'))\n",
    "fig1.update_layout(title='Training Loss Curve',\n",
    "                   xaxis_title='Epoch',\n",
    "                   yaxis_title='MSE Loss')\n",
    "fig1.show()\n",
    "\n",
    "# Cell 6: Plotly: Model prediction\n",
    "x_cpu = x.cpu().squeeze()\n",
    "y_cpu = y.cpu().squeeze()\n",
    "pred_cpu = model(x).detach().cpu().squeeze()\n",
    "\n",
    "fig2 = go.Figure()\n",
    "fig2.add_trace(go.Scatter(x=x_cpu, y=y_cpu, mode='markers', name='Ground Truth'))\n",
    "fig2.add_trace(go.Scatter(x=x_cpu, y=pred_cpu, mode='lines', name='Prediction'))\n",
    "fig2.update_layout(title='Model Fit: Ground Truth vs Prediction',\n",
    "                   xaxis_title='x',\n",
    "                   yaxis_title='y')\n",
    "fig2.show()\n"
   ]
  }
 ],
 "metadata": {
  "kernelspec": {
   "display_name": "Python 3 (ipykernel)",
   "language": "python",
   "name": "python3"
  },
  "language_info": {
   "codemirror_mode": {
    "name": "ipython",
    "version": 3
   },
   "file_extension": ".py",
   "mimetype": "text/x-python",
   "name": "python",
   "nbconvert_exporter": "python",
   "pygments_lexer": "ipython3",
   "version": "3.12.10"
  }
 },
 "nbformat": 4,
 "nbformat_minor": 5
}
